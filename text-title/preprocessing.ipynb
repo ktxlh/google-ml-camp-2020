{
 "cells": [
  {
   "cell_type": "code",
   "execution_count": 18,
   "metadata": {},
   "outputs": [],
   "source": [
    "import json\n",
    "import os\n",
    "import re\n",
    "\n",
    "g = os.walk(\"../wiki-vandalism/json/\")  \n",
    "\n",
    "with open(\"input.csv\", 'w') as input_file:\n",
    "    for path, _ ,file_list in g:  \n",
    "        for file_name in file_list:  \n",
    "            with open('../wiki-vandalism/json/' + file_name, encoding='utf-8') as f:\n",
    "                json_str = f.read()\n",
    "                json_dic = json.loads(json_str)\n",
    "                corups = json_dic[\"prev\"][\"sections\"]\n",
    "                for s_t in corups:\n",
    "                    src_txt = s_t[\"text\"]\n",
    "                    tgt_txt = s_t[\"title\"]\n",
    "                    src_txt = re.sub('[^a-zA-Z \\-–\\d]+', '', src_txt)\n",
    "                    src_txt = re.sub('[\\-–]+', ' ', src_txt)\n",
    "                    tgt_txt = re.sub('[^a-zA-Z \\-–\\d]+', '', tgt_txt)\n",
    "                    tgt_txt = re.sub('[\\-–]+', ' ', tgt_txt)\n",
    "                    if len(src_txt) <= 10 or len(tgt_txt) <= 2:\n",
    "                        continue\n",
    "                    src_txt = src_txt.lower()\n",
    "                    tgt_txt = tgt_txt.lower()\n",
    "                    print('{},{}'.format(tgt_txt, src_txt), file=input_file)\n"
   ]
  },
  {
   "cell_type": "code",
   "execution_count": 19,
   "metadata": {},
   "outputs": [],
   "source": [
    "import json\n",
    "import os\n",
    "import re\n",
    "\n",
    "\n",
    "wordidx = set([])\n",
    "\n",
    "with open('input.csv', encoding='utf-8') as f:\n",
    "    for line in f:\n",
    "        tok = line.split(',')\n",
    "        if len(tok) != 2:\n",
    "            print('error')\n",
    "            continue\n",
    "        src_txt, tgt_txt = tok[0], tok[1]\n",
    "        src_txt = src_txt.split()\n",
    "        tgt_txt = tgt_txt.split()\n",
    "        for word in src_txt:\n",
    "            if word not in wordidx:\n",
    "                wordidx.add(word)\n",
    "        for word in tgt_txt:\n",
    "            if word not in wordidx:\n",
    "                wordidx.add(word)\n",
    "\n",
    "\n",
    "with open(\"vocab\", 'w') as input_file:\n",
    "    \n",
    "    print(\"<pad>\\n<unk>\\n<s>\\n</s>\", file=input_file)\n",
    "    for word in wordidx:\n",
    "        print(word, file=input_file)"
   ]
  },
  {
   "cell_type": "code",
   "execution_count": 20,
   "metadata": {},
   "outputs": [],
   "source": [
    "cnt = 0\n",
    "with open(\"input.csv\") as f:\n",
    "    with open('val.csv', \"w\") as output_file:\n",
    "        for line in f:\n",
    "            print(line, file=output_file)\n",
    "            cnt += 1\n",
    "            if cnt == 5000:\n",
    "                break\n",
    "    output_file.close()\n",
    "    f.close()"
   ]
  }
 ],
 "metadata": {
  "kernelspec": {
   "display_name": "Python 3",
   "language": "python",
   "name": "python3"
  },
  "language_info": {
   "codemirror_mode": {
    "name": "ipython",
    "version": 3
   },
   "file_extension": ".py",
   "mimetype": "text/x-python",
   "name": "python",
   "nbconvert_exporter": "python",
   "pygments_lexer": "ipython3",
   "version": "3.5.3"
  }
 },
 "nbformat": 4,
 "nbformat_minor": 2
}
