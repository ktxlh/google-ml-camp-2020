{
 "cells": [
  {
   "cell_type": "code",
   "execution_count": null,
   "metadata": {},
   "outputs": [],
   "source": [
    "import json\n",
    "import os\n",
    "import re\n",
    "\n",
    "g = os.walk(\"../wiki-vandalism/json/\")  \n",
    "\n",
    "with open(\"input.json\", 'w') as input_file:\n",
    "    for path, _ ,file_list in g:  \n",
    "        for file_name in file_list:  \n",
    "            with open('../wiki-vandalism/json/' + file_name, encoding='utf-8') as f:\n",
    "                json_str = f.read()\n",
    "                json_dic = json.loads(json_str)\n",
    "                corups = json_dic[\"prev\"][\"sections\"]\n",
    "                for s_t in corups:\n",
    "                    src = s_t[\"text\"]\n",
    "                    tgt = s_t[\"title\"]\n",
    "                    if src == \"\" or tgt == \"\":\n",
    "                        continue\n",
    "                    src = re.sub('[^a-zA-Z ]+', '', src)\n",
    "                    print(json.dumps({\"src\": src, \"tgt\": tgt}), end='\\n', file=input_file)\n"
   ]
  },
  {
   "cell_type": "code",
   "execution_count": null,
   "metadata": {},
   "outputs": [],
   "source": []
  }
 ],
 "metadata": {
  "kernelspec": {
   "display_name": "Python 3",
   "language": "python",
   "name": "python3"
  },
  "language_info": {
   "codemirror_mode": {
    "name": "ipython",
    "version": 3
   },
   "file_extension": ".py",
   "mimetype": "text/x-python",
   "name": "python",
   "nbconvert_exporter": "python",
   "pygments_lexer": "ipython3",
   "version": "3.5.3"
  }
 },
 "nbformat": 4,
 "nbformat_minor": 2
}
